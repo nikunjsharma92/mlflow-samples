{
 "cells": [
  {
   "cell_type": "code",
   "execution_count": null,
   "id": "a34062d2",
   "metadata": {},
   "outputs": [],
   "source": [
    "import xgboost as xgb\n",
    "import mlflow\n",
    "from sklearn import datasets\n",
    "from sklearn.model_selection import train_test_split\n",
    "\n",
    "##### Register Model ########\n",
    "iris = datasets.load_iris()\n",
    "x = iris.data[:, 2:]\n",
    "y = iris.target\n",
    "x_train, x_test, y_train, _ = train_test_split(x, y, test_size=0.2, random_state=42)\n",
    "dtrain = xgb.DMatrix(x_train, label=y_train)\n",
    "xgb_model = xgb.train(params={'max_depth': 10}, dtrain=dtrain, num_boost_round=10)\n",
    "\n",
    "##### Log Model ########\n",
    "mlflow.set_tracking_uri(\"http://model-repository.stg.dreamplug.net/\")\n",
    "mlflow.set_experiment(\"test\")\n",
    "with mlflow.start_run():\n",
    "    mlflow.log_artifact('hooks.py', 'model')\n",
    "    logged_model1 = mlflow.xgboost.log_model(xgb_model, 'model', registered_model_name='XGB-IRIS-WITH-HOOKS', \n",
    "                                             extra_pip_requirements=['boto3', 'sagemaker'])"
   ]
  }
 ],
 "metadata": {
  "kernelspec": {
   "display_name": "Python 3 (ipykernel)",
   "language": "python",
   "name": "python3"
  },
  "language_info": {
   "codemirror_mode": {
    "name": "ipython",
    "version": 3
   },
   "file_extension": ".py",
   "mimetype": "text/x-python",
   "name": "python",
   "nbconvert_exporter": "python",
   "pygments_lexer": "ipython3",
   "version": "3.9.13"
  }
 },
 "nbformat": 4,
 "nbformat_minor": 5
}
