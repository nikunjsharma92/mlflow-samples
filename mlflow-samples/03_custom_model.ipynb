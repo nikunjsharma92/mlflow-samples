{
 "cells": [
  {
   "cell_type": "code",
   "execution_count": 1,
   "id": "9ac33778",
   "metadata": {},
   "outputs": [],
   "source": [
    "import mlflow.pyfunc\n",
    "\n",
    "# Define the model class\n",
    "class CustomModel(mlflow.pyfunc.PythonModel):\n",
    "\n",
    "    def __init__(self, n):\n",
    "        self.n = n\n",
    "\n",
    "    def predict(self, X):\n",
    "        return X if self.n < 1 else X*2\n",
    "\n",
    "# Construct model\n",
    "n = 5\n",
    "custom_model = CustomModel(n)\n"
   ]
  },
  {
   "cell_type": "code",
   "execution_count": 2,
   "id": "b5454e04",
   "metadata": {},
   "outputs": [
    {
     "name": "stderr",
     "output_type": "stream",
     "text": [
      "Successfully registered model 'CUSTOM-MODEL-1'.\n",
      "2022/03/02 14:33:06 INFO mlflow.tracking._model_registry.client: Waiting up to 300 seconds for model version to finish creation.                     Model name: CUSTOM-MODEL-1, version 1\n",
      "Created version '1' of model 'CUSTOM-MODEL-1'.\n"
     ]
    }
   ],
   "source": [
    "########## log model ####################\n",
    "import mlflow\n",
    "\n",
    "mlflow.set_tracking_uri(\"http://model-repository.stg.dreamplug.net/\")\n",
    "mlflow.set_experiment(\"test\")\n",
    "\n",
    "with mlflow.start_run() as run:\n",
    "    mlflow.log_param(\"n\", n)\n",
    "    mlflow.sklearn.log_model(custom_model, \"model\", registered_model_name=\"CUSTOM-MODEL-1\")\n"
   ]
  },
  {
   "cell_type": "code",
   "execution_count": null,
   "id": "20c998ab",
   "metadata": {},
   "outputs": [],
   "source": []
  }
 ],
 "metadata": {
  "kernelspec": {
   "display_name": "Python 3 (ipykernel)",
   "language": "python",
   "name": "python3"
  },
  "language_info": {
   "codemirror_mode": {
    "name": "ipython",
    "version": 3
   },
   "file_extension": ".py",
   "mimetype": "text/x-python",
   "name": "python",
   "nbconvert_exporter": "python",
   "pygments_lexer": "ipython3",
   "version": "3.9.7"
  }
 },
 "nbformat": 4,
 "nbformat_minor": 5
}
