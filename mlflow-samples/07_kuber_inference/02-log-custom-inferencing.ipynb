{
 "cells": [
  {
   "cell_type": "code",
   "execution_count": null,
   "id": "b827641f-9cfc-473d-b83f-69d4705e4b32",
   "metadata": {},
   "outputs": [],
   "source": [
    "!pip install git+ssh://git@bitbucket.org/dreamplug-backend/test-custom-inferencing@0.0.5"
   ]
  },
  {
   "cell_type": "code",
   "execution_count": null,
   "id": "3b53cfff-fc38-49f8-8f65-48060c237549",
   "metadata": {},
   "outputs": [],
   "source": [
    "%%writefile hooks.py\n",
    "from kuberinference import pre_processing, post_processing\n",
    "\n",
    "def input_fn(X):\n",
    "    return pre_processing.pre_process(X)\n",
    "\n",
    "def output_fn(Y):\n",
    "    return post_processing.post_process(Y)"
   ]
  },
  {
   "cell_type": "code",
   "execution_count": null,
   "id": "61f6fde6-2503-48c8-9127-963ebf1ebab1",
   "metadata": {},
   "outputs": [],
   "source": [
    "############################################## CUSTOM INFERENCING CODE #############################################\n",
    "from kuberinference import inferencing\n",
    "import mlflow\n",
    "\n",
    "class ClusterKuberInference(mlflow.pyfunc.PythonModel):\n",
    "\n",
    "    def __init__(self):\n",
    "        self.model = inferencing.KuberInference()\n",
    "    \n",
    "    def predict(self, X):\n",
    "        return self.model.predict(X)"
   ]
  },
  {
   "cell_type": "code",
   "execution_count": null,
   "id": "05bb18fc-150e-4562-933c-b8c043aeab7a",
   "metadata": {},
   "outputs": [],
   "source": [
    "######## TEST INFERENCE ###################\n",
    "mlflow.set_tracking_uri(\"http://model-repository.stg.dreamplug.net/\")\n",
    "\n",
    "from kuberinference.pre_processing import pre_process\n",
    "from kuberinference.post_processing import post_process\n",
    "\n",
    "X = {\n",
    "    \"user_id\": \"bff2781f-123f-412c-9341-7055c18437ba\",\n",
    "    \"instru_id\": [\"NB_HDFC\",\"NB_HDFC1\"],\n",
    "    \"amount\": 500,\n",
    "    \"lob\": \"6f6199c0-3005-4978-ac75-fbe591e56760\"\n",
    "    }\n",
    "X = pre_process(X)\n",
    "Y = ClusterKuberInference().predict(X)\n",
    "Y = post_process(Y)\n",
    "print(Y)"
   ]
  },
  {
   "cell_type": "code",
   "execution_count": null,
   "id": "477e63a1-461b-4799-b709-fb11de8cc626",
   "metadata": {},
   "outputs": [],
   "source": [
    "model = ClusterKuberInference()\n",
    "############################## LOG INFERENCE MODEL ###########################\n",
    "mlflow.set_tracking_uri(\"http://model-repository.stg.dreamplug.net/\")\n",
    "mlflow.set_experiment(\"kuber-inference-base-model\")\n",
    "with mlflow.start_run() as run:\n",
    "    mlflow.pyfunc.log_model(python_model=model, artifact_path=\"model\", \n",
    "                             registered_model_name=\"KUBER-INFERENCE-MODEL\", \n",
    "                            extra_pip_requirements=[\"git+ssh://git@bitbucket.org/dreamplug-backend/test-custom-inferencing@0.0.5\"]\n",
    "                            )\n",
    "    mlflow.log_artifacts(\"hooks.py\", \"model\")"
   ]
  },
  {
   "cell_type": "code",
   "execution_count": null,
   "id": "205833da-e46c-4974-91f0-c14373d3c97b",
   "metadata": {},
   "outputs": [],
   "source": []
  }
 ],
 "metadata": {
  "kernelspec": {
   "display_name": "Python 3 (ipykernel)",
   "language": "python",
   "name": "python3"
  },
  "language_info": {
   "codemirror_mode": {
    "name": "ipython",
    "version": 3
   },
   "file_extension": ".py",
   "mimetype": "text/x-python",
   "name": "python",
   "nbconvert_exporter": "python",
   "pygments_lexer": "ipython3",
   "version": "3.9.13"
  }
 },
 "nbformat": 4,
 "nbformat_minor": 5
}
