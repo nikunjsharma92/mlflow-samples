{
 "cells": [
  {
   "cell_type": "code",
   "execution_count": null,
   "id": "2570eef7-9068-4c6b-b0f8-59364c8f17bd",
   "metadata": {},
   "outputs": [],
   "source": [
    "!pip install git+ssh://git@bitbucket.org/dreamplug-backend/test-custom-inferencing@0.0.5"
   ]
  },
  {
   "cell_type": "code",
   "execution_count": null,
   "id": "a3a1c443-6aa7-421d-bdaa-95ffe715b930",
   "metadata": {},
   "outputs": [],
   "source": [
    "############################################## CUSTOM INFERENCING CODE #############################################\n",
    "from kuberinference import inferencing\n",
    "from kuberinference import pre_processing, post_processing\n",
    "import mlflow\n",
    "\n",
    "class ClusterKuberInference(mlflow.pyfunc.PythonModel):\n",
    "\n",
    "    def __init__(self):\n",
    "        self.model = inferencing.KuberInference()\n",
    "        self.pre_process = pre_processing.pre_process\n",
    "        self.post_process = post_processing.post_process\n",
    "        \n",
    "    def predict(self, X):\n",
    "        X = self.pre_process(X)\n",
    "        Y = self.model.predict(X)\n",
    "        return self.post_process(Y)"
   ]
  }
 ],
 "metadata": {
  "kernelspec": {
   "display_name": "Python 3 (ipykernel)",
   "language": "python",
   "name": "python3"
  },
  "language_info": {
   "codemirror_mode": {
    "name": "ipython",
    "version": 3
   },
   "file_extension": ".py",
   "mimetype": "text/x-python",
   "name": "python",
   "nbconvert_exporter": "python",
   "pygments_lexer": "ipython3",
   "version": "3.9.13"
  }
 },
 "nbformat": 4,
 "nbformat_minor": 5
}
