{
 "cells": [
  {
   "cell_type": "code",
   "execution_count": null,
   "id": "4e87b0bf",
   "metadata": {},
   "outputs": [],
   "source": [
    "#### DS code for rule engine ####\n",
    "def rule_engine(X, n):\n",
    "    return X if self.n < 1 else X*2"
   ]
  },
  {
   "cell_type": "code",
   "execution_count": null,
   "id": "9ac33778",
   "metadata": {},
   "outputs": [],
   "source": [
    "######## Cast as mlflow flavor ##############\n",
    "##### https://www.mlflow.org/docs/latest/python_api/mlflow.pyfunc.html#pyfunc-create-custom ######\n",
    "import mlflow.pyfunc\n",
    "\n",
    "class CustomModel(mlflow.pyfunc.PythonModel):\n",
    "\n",
    "    def __init__(self, n):\n",
    "        self.n = n\n",
    "\n",
    "    def predict(self, X):\n",
    "        return rule_engine(X, self.n)\n",
    "\n",
    "# Construct model\n",
    "n = 5\n",
    "custom_model = CustomModel(n)"
   ]
  },
  {
   "cell_type": "code",
   "execution_count": null,
   "id": "b5454e04",
   "metadata": {},
   "outputs": [],
   "source": [
    "########## log model ####################\n",
    "import mlflow\n",
    "\n",
    "mlflow.set_tracking_uri(\"http://model-repository.stg.dreamplug.net/\")\n",
    "mlflow.set_experiment(\"ds-test-2\")\n",
    "\n",
    "with mlflow.start_run() as run:\n",
    "    mlflow.log_param(\"n\", n)\n",
    "    mlflow.pyfunc.log_model(custom_model, \"model\", registered_model_name=\"CUSTOM-MODEL-2\")\n"
   ]
  },
  {
   "cell_type": "code",
   "execution_count": null,
   "id": "20c998ab",
   "metadata": {},
   "outputs": [],
   "source": []
  }
 ],
 "metadata": {
  "kernelspec": {
   "display_name": "Python 3 (ipykernel)",
   "language": "python",
   "name": "python3"
  },
  "language_info": {
   "codemirror_mode": {
    "name": "ipython",
    "version": 3
   },
   "file_extension": ".py",
   "mimetype": "text/x-python",
   "name": "python",
   "nbconvert_exporter": "python",
   "pygments_lexer": "ipython3",
   "version": "3.9.13"
  }
 },
 "nbformat": 4,
 "nbformat_minor": 5
}
