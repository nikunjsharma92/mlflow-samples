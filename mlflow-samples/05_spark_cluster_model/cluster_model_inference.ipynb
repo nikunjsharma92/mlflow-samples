{
 "cells": [
  {
   "cell_type": "code",
   "execution_count": null,
   "id": "86d61651-8411-44c9-bb0b-25b9712b2aaa",
   "metadata": {},
   "outputs": [],
   "source": [
    "# Generate Model\n",
    "import mlflow\n",
    "import os\n",
    "from pyspark.ml.clustering import KMeansModel\n",
    "\n",
    "os.environ['PYSPARK_SUBMIT_ARGS'] = '--packages com.amazonaws:aws-java-sdk-pom:1.10.34,org.apache.hadoop:hadoop-aws:2.7.2 pyspark-shell'\n",
    "\n",
    "import boto3\n",
    "from pyspark import SparkContext\n",
    "sc = SparkContext.getOrCreate();\n",
    "\n",
    "model = KMeansModel.load(\"./spark-poc/clustering_model\")"
   ]
  },
  {
   "cell_type": "code",
   "execution_count": null,
   "id": "f4164945-7922-45b5-9530-a063d8e77e9b",
   "metadata": {},
   "outputs": [],
   "source": [
    "%%writefile hooks.py\n",
    "import json\n",
    "from pyspark.sql import SQLContext\n",
    "from pyspark import SparkContext\n",
    "from pyspark.sql.types import StructType    \n",
    "import os\n",
    "\n",
    "sc = SparkContext.getOrCreate();\n",
    "spark = SQLContext(sc)\n",
    "\n",
    "f = open(os.path.join(os.path.dirname(__file__), 'schema.json')) # Generated at the time of training. Always use absolute paths\n",
    "schema_json = json.load(f)\n",
    "schema = StructType.fromJson(json.loads(schema_json))\n",
    "\n",
    "def input_fn(X):\n",
    "    df = spark.read.schema(schema).json(sc.parallelize([X]))\n",
    "    return df\n",
    "\n",
    "def output_fn(Y):\n",
    "    return Y"
   ]
  },
  {
   "cell_type": "code",
   "execution_count": null,
   "id": "7331eb17-ddcc-42d7-b2ad-94a16e230bca",
   "metadata": {},
   "outputs": [],
   "source": [
    "# TEST MODEL\n",
    "import hooks\n",
    "\n",
    "X = {\"user_id_base\":\"ffecca81-78e4-4055-846a-1c1d013dca44\",\"active_days_30_base\":5,\"last_payment_amount_base\":10000.0000,\"mystery_reward_purchase_count_base\":142,\"mmr_reward_purchase_count_base\":67,\"non_cashback_reward_purchase_count_base\":68,\"fetched_verified_cards_base\":0,\"age_base\":42,\"max_credit_limit_base\":800000,\"ds_quality_score_base\":4,\"device_make_base\":\"oneplus\",\"affluence_score_base\":\"50-55\",\"engagement_score_base\":\"95-100\",\"gender_ds_base\":\"MALE\",\"device_make_indexed_base\":3.0,\"affluence_score_indexed_base\":0.0,\"engagement_score_indexed_base\":1.0,\"gender_ds_indexed_base\":0.0,\"device_make_indexed_ohe_base\":{\"type\":0,\"size\":316,\"indices\":[3],\"values\":[1.0]},\"affluence_score_indexed_ohe_base\":{\"type\":0,\"size\":36,\"indices\":[0],\"values\":[1.0]},\"engagement_score_indexed_ohe_base\":{\"type\":0,\"size\":36,\"indices\":[1],\"values\":[1.0]},\"gender_ds_indexed_ohe_base\":{\"type\":0,\"size\":3,\"indices\":[0],\"values\":[1.0]},\"user_profile_vector_base\":{\"type\":0,\"size\":400,\"indices\":[0,1,2,3,4,6,7,8,12,325,362,397],\"values\":[5.0,10000.0,142.0,67.0,68.0,42.0,800000.0,4.0,1.0,1.0,1.0,1.0]},\"user_id_cc\":\"ffecca81-78e4-4055-846a-1c1d013dca44\",\"user_cc_vector_cc\":{\"type\":1,\"values\":[230.0,0.0,0.0,4487.16,19921.67,8841.62,0.0,0.0,0.0,963.34,69923.86,0.0,1321.0,975.0,105.55,0.0,0.0,0.0,0.0,0.0,0.0]},\"user_id_sms\":\"ffecca81-78e4-4055-846a-1c1d013dca44\",\"user_sms_vector_sms\":{\"type\":1,\"values\":[42039.0,182327.0,0.0,2837.8,210131.18,0.0,0.0,0.0,460.0,5330.0,83222.0,0.0,1321.0,1008.96,0.0,0.0,0.0,0.0,0.0,0.0,0.0]},\"user_id_apps\":\"ffecca81-78e4-4055-846a-1c1d013dca44\",\"f0_apps\":0.02144509228339193,\"f1_apps\":0.05632663170026781,\"f2_apps\":0.0,\"f3_apps\":0.0,\"f4_apps\":0.001748690684432548,\"f5_apps\":0.0,\"f6_apps\":0.007338628715062091,\"f7_apps\":0.005158550345223657,\"f8_apps\":0.001849479322779095,\"f9_apps\":0.0036107521998804334,\"f10_apps\":0.0,\"f11_apps\":0.007653661749018019,\"f12_apps\":0.0,\"f13_apps\":0.0020761875718397532,\"f14_apps\":1.8174769287246552E-4,\"f15_apps\":0.0,\"f16_apps\":8.316611259930451E-5,\"f17_apps\":0.0,\"f18_apps\":0.006428973947289647,\"f19_apps\":0.00806353649022439,\"date_apps\":\"2022-07-04\",\"user_app_embedding_apps\":{\"type\":1,\"values\":[0.02144509228339193,0.05632663170026781,0.0,0.0,0.001748690684432548,0.0,0.007338628715062091,0.005158550345223657,0.001849479322779095,0.0036107521998804334,0.0,0.007653661749018019,0.0,0.0020761875718397532,1.8174769287246552E-4,0.0,8.316611259930451E-5,0.0,0.006428973947289647,0.00806353649022439]},\"user_id_event\":\"ffecca81-78e4-4055-846a-1c1d013dca44\",\"ctr_vector_click_event\":{\"type\":1,\"values\":[0.0,0.0,0.0,0.1545011950643601,0.0,0.0,0.08655479146498404,0.07917450245414731,0.0,0.0,0.0,0.09735762078842757,0.1606154497963747,0.14285714285714285,0.23887089785728832,0.16666666666666666,0.0,0.006325808136498172]},\"ctr_vector_ltb_event\":{\"type\":1,\"values\":[0.0,0.0,0.0,0.11835330725433763,0.0,0.0,0.06159949911998879,0.06567669221026776,0.0,0.0,0.0,0.07691624865644099,0.13835665665735072,0.14285714285714285,0.17226273329444733,0.0,0.0,0.0]},\"user_cc_vector_cc_robust\":{\"type\":1,\"values\":[0.19905836737519905,0.0,0.0,7.319761182343154,0.34710975206035577,2.476935661898599,0.0,0.0,0.0,0.7585354330708661,4.535356575320253,0.0,5.20591133004926,0.0,0.06357246538297065,0.0,0.0,0.0,0.0,0.0,0.0]},\"user_sms_vector_sms_robust\":{\"type\":1,\"values\":[0.18993037828850767,1.3017313390211687,0.0,0.22963931624484935,0.4498904825884925,0.0,0.0,0.0,1.155778894472362,0.6184191443074691,1.341727662593106,0.0,0.3300569167037283,0.9609142857142857,0.0,0.0,0.0,0.0,0.0,0.0,0.0]},\"ctr_vector_ltb_event_robust\":{\"type\":1,\"values\":[0.0,0.0,0.0,1.0,0.0,0.0,0.0,0.0,0.0,0.0,0.0,0.0,1.0,1.1548732701758355,0.0,0.0,0.0,0.0]},\"ctr_vector_click_event_robust\":{\"type\":1,\"values\":[0.0,0.0,0.0,1.0,0.0,0.0,0.0,0.0,0.0,0.0,0.0,0.0,1.0,0.9043292248931518,0.0,1.9140135581518865,0.0,0.0]},\"user_profile_vector_base_robust\":{\"type\":0,\"size\":400,\"indices\":[0,1,2,3,4,6,7,8,12,325,362,397],\"values\":[0.7142857142857142,0.6882170361245123,3.4634146341463414,0.27125506072874495,0.27419354838709675,4.666666666666666,5.633802816901409,2.0,0.0,0.0,0.0,0.0]},\"user_cc_vector_cc_robust_scaled\":{\"type\":1,\"values\":[7.5330573346729E-4,0.0,0.0,0.10919111618920938,0.10040709668628928,0.3810589963391114,0.0,0.0,0.0,0.06439660571453208,0.993382299484449,0.0,0.0342099421203848,0.0,0.0058764454709666954,0.0,0.0,0.0,0.0,0.0,0.0]},\"user_sms_vector_sms_robust_scaled\":{\"type\":1,\"values\":[1.5205101850769897E-6,5.151810297389966E-4,0.0,2.925389613648625E-5,1.4354523441839788E-4,0.0,0.0,0.0,9.483186951058673E-4,1.540459841622926E-4,8.259740246556031E-4,0.0,3.335400009121234E-6,5.226061897691503E-4,0.0,0.0,0.0,0.0,0.0,0.0,0.0]},\"ctr_vector_ltb_event_robust_scaled\":{\"type\":1,\"values\":[0.0,0.0,0.0,0.5785535819895803,0.0,0.0,0.0,0.0,0.0,0.0,0.0,0.0,0.6715926267231014,0.6796718400391039,0.0,0.0,0.0,0.0]},\"ctr_vector_click_event_robust_scaled\":{\"type\":1,\"values\":[0.0,0.0,0.0,0.6756619623632815,0.0,0.0,0.0,0.0,0.0,0.0,0.0,0.0,0.7384548268451439,0.6090354298978564,0.0,1.0648210099175661,0.0,0.0]},\"user_profile_vector_base_robust_scaled\":{\"type\":0,\"size\":400,\"indices\":[0,1,2,3,4,6,7,8,12,325,362,397],\"values\":[0.8069684318094414,0.4356226660630855,1.9001071527560174,0.11807866198644543,0.11968939113507404,1.080919779414454,4.222038478637708,3.146043400678659,0.0,0.0,0.0,0.0]},\"user_app_embedding_apps_robust_scaled\":{\"type\":1,\"values\":[3.161627769681324,2.7862715312756956,0.0,0.0,0.2582470247823958,0.0,0.8178124158995855,0.9548177463658669,0.2558024824597982,0.37180115955624654,0.0,0.931600979732701,0.0,0.45329750849593364,0.05259910458082542,0.0,0.00888780503521756,0.0,0.5820484757647094,0.9093726321669893]},\"user_robust_scaled_features\":{\"type\":0,\"size\":498,\"indices\":[0,3,4,5,9,10,12,14,21,22,24,25,29,30,31,33,34,45,54,55,63,72,73,75,78,79,80,81,82,84,85,86,478,479,482,484,485,486,487,489,491,492,494,496,497],\"values\":[7.5330573346729E-4,0.10919111618920938,0.10040709668628928,0.3810589963391114,0.06439660571453208,0.993382299484449,0.0342099421203848,0.0058764454709666954,1.5205101850769897E-6,5.151810297389966E-4,2.925389613648625E-5,1.4354523441839788E-4,9.483186951058673E-4,1.540459841622926E-4,8.259740246556031E-4,3.335400009121234E-6,5.226061897691503E-4,0.5785535819895803,0.6715926267231014,0.6796718400391039,0.6756619623632815,0.7384548268451439,0.6090354298978564,1.0648210099175661,0.8069684318094414,0.4356226660630855,1.9001071527560174,0.11807866198644543,0.11968939113507404,1.080919779414454,4.222038478637708,3.146043400678659,3.161627769681324,2.7862715312756956,0.2582470247823958,0.8178124158995855,0.9548177463658669,0.2558024824597982,0.37180115955624654,0.931600979732701,0.45329750849593364,0.05259910458082542,0.00888780503521756,0.5820484757647094,0.9093726321669893]},\"user_robust_scaled_features_pca\":{\"type\":1,\"values\":[2.7688293132642072,-2.77221654196347,1.620736972988393,0.07188429983406017,-0.4498814550359175,-0.05156497865098482,-0.49235039748997445,1.0292577414096402,-0.7482397512471975,-0.6787286040688254,-0.7063177784213882,-0.5783307889916486,0.5515753772057591,0.28452879198240827,-0.32026323012304403,0.37201619151934295,0.21732395978758787,0.4820971714964229,-1.495827711798659,0.5302977165169231,2.0442497761290706,0.9671138034917315,0.4785105448446335,0.03293966176756275,-0.3654978371880601,-0.47541713130856333,0.07531497496663123,0.5085535748146478,0.14054779592656133,-0.03973294513231845,-0.06820999729271603,-0.12492823879515805,0.014594674935998414,0.1030778930650922,0.1201744897192124,1.1840906186731663,0.5115496408565409,1.179150975313352,-0.297497737352385,0.8022521677477048,0.15570819403904837,1.395790567399051,0.12337097130550717,0.11350409814581981,-0.07601259882379277,0.4789155828720508,-0.31679129593723476,-0.9117773353129351,-0.5448276505670415,1.4956701981203722,2.2362391946156635,1.278216472354038,-1.5455576633028392,-1.3552652231821065,1.3737512589449279,-0.7850780115384268,-0.7281405649076373,0.5132803406812075,0.07805071873375757,0.02190175675663966,-0.23353118503650186,0.09830649645900973,0.09318396863635654,0.15358483526058012,0.3049810057928473,-0.5269876931089077,0.25109646253615886,0.20656694247980184,0.0018919200718901868,-2.258655872101803]}}\n",
    "X = hooks.input_fn(X)\n",
    "Y = model.transform(X)\n",
    "Y = hooks.output_fn(Y)\n",
    "\n",
    "print(Y)"
   ]
  },
  {
   "cell_type": "code",
   "execution_count": null,
   "id": "0fe72de7-f531-43db-a368-2ded29e2f2d6",
   "metadata": {},
   "outputs": [],
   "source": [
    "# LOG MODEL\n",
    "os.environ['PYSPARK_SUBMIT_ARGS'] = '--packages com.amazonaws:aws-java-sdk-pom:1.10.34,org.apache.hadoop:hadoop-aws:2.7.2 pyspark-shell'\n",
    "\n",
    "mlflow.set_tracking_uri(\"http://model-repository.stg.dreamplug.net/\")\n",
    "mlflow.set_experiment(\"cluster_model\")\n",
    "\n",
    "with mlflow.start_run() as run:\n",
    "    mlflow.spark.log_model(model, \"model\", registered_model_name=\"cluster_model\")\n",
    "    mlflow.log_artifact(\"hooks.py\", \"model\")\n",
    "    mlflow.log_artifact(\"schema.json\", \"model\")"
   ]
  },
  {
   "cell_type": "code",
   "execution_count": 29,
   "id": "2a56d53d-3824-46f9-9246-c16e797b6d1f",
   "metadata": {},
   "outputs": [
    {
     "data": {
      "text/plain": [
       "True"
      ]
     },
     "execution_count": 29,
     "metadata": {},
     "output_type": "execute_result"
    }
   ],
   "source": [
    "str(Y.__class__) == \"<class 'pyspark.sql.dataframe.DataFrame'>\""
   ]
  },
  {
   "cell_type": "code",
   "execution_count": 32,
   "id": "65899da6-b15c-4db6-b6a0-a8d4803aaf4c",
   "metadata": {},
   "outputs": [
    {
     "ename": "ValueError",
     "evalue": "dictionary update sequence element #0 has length 8180; 2 is required",
     "output_type": "error",
     "traceback": [
      "\u001b[0;31m---------------------------------------------------------------------------\u001b[0m",
      "\u001b[0;31mValueError\u001b[0m                                Traceback (most recent call last)",
      "Input \u001b[0;32mIn [32]\u001b[0m, in \u001b[0;36m<cell line: 1>\u001b[0;34m()\u001b[0m\n\u001b[0;32m----> 1\u001b[0m \u001b[43mY\u001b[49m\u001b[38;5;241;43m.\u001b[39;49m\u001b[43mtoJSON\u001b[49m\u001b[43m(\u001b[49m\u001b[43m)\u001b[49m\u001b[38;5;241;43m.\u001b[39;49m\u001b[43mcollectAsMap\u001b[49m\u001b[43m(\u001b[49m\u001b[43m)\u001b[49m\n",
      "File \u001b[0;32m~/Workspace/jupyter/venv/lib/python3.9/site-packages/pyspark/rdd.py:2226\u001b[0m, in \u001b[0;36mRDD.collectAsMap\u001b[0;34m(self)\u001b[0m\n\u001b[1;32m   2209\u001b[0m \u001b[38;5;28;01mdef\u001b[39;00m \u001b[38;5;21mcollectAsMap\u001b[39m(\u001b[38;5;28mself\u001b[39m: \u001b[38;5;124m\"\u001b[39m\u001b[38;5;124mRDD[Tuple[K, V]]\u001b[39m\u001b[38;5;124m\"\u001b[39m) \u001b[38;5;241m-\u001b[39m\u001b[38;5;241m>\u001b[39m Dict[K, V]:\n\u001b[1;32m   2210\u001b[0m     \u001b[38;5;124;03m\"\"\"\u001b[39;00m\n\u001b[1;32m   2211\u001b[0m \u001b[38;5;124;03m    Return the key-value pairs in this RDD to the master as a dictionary.\u001b[39;00m\n\u001b[1;32m   2212\u001b[0m \n\u001b[0;32m   (...)\u001b[0m\n\u001b[1;32m   2224\u001b[0m \u001b[38;5;124;03m    4\u001b[39;00m\n\u001b[1;32m   2225\u001b[0m \u001b[38;5;124;03m    \"\"\"\u001b[39;00m\n\u001b[0;32m-> 2226\u001b[0m     \u001b[38;5;28;01mreturn\u001b[39;00m \u001b[38;5;28;43mdict\u001b[39;49m\u001b[43m(\u001b[49m\u001b[38;5;28;43mself\u001b[39;49m\u001b[38;5;241;43m.\u001b[39;49m\u001b[43mcollect\u001b[49m\u001b[43m(\u001b[49m\u001b[43m)\u001b[49m\u001b[43m)\u001b[49m\n",
      "\u001b[0;31mValueError\u001b[0m: dictionary update sequence element #0 has length 8180; 2 is required"
     ]
    }
   ],
   "source": [
    "Y.toJSON().collectAsMap()"
   ]
  },
  {
   "cell_type": "code",
   "execution_count": null,
   "id": "cef4c550-976f-4334-8e79-6368e22beb10",
   "metadata": {},
   "outputs": [],
   "source": []
  }
 ],
 "metadata": {
  "kernelspec": {
   "display_name": "Python 3 (ipykernel)",
   "language": "python",
   "name": "python3"
  },
  "language_info": {
   "codemirror_mode": {
    "name": "ipython",
    "version": 3
   },
   "file_extension": ".py",
   "mimetype": "text/x-python",
   "name": "python",
   "nbconvert_exporter": "python",
   "pygments_lexer": "ipython3",
   "version": "3.9.13"
  }
 },
 "nbformat": 4,
 "nbformat_minor": 5
}
