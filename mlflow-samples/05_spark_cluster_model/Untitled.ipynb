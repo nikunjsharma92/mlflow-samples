{
 "cells": [
  {
   "cell_type": "code",
   "execution_count": null,
   "id": "e9459b48-ec85-47ef-a9b4-0b29e820982f",
   "metadata": {},
   "outputs": [],
   "source": [
    "! aws s3 cp s3://dp-batchplatform-stage/ds/model-repository/53/9baea08c4515429c97aded458967e52b/artifacts/model ./artifacts --recursive\n"
   ]
  },
  {
   "cell_type": "code",
   "execution_count": 6,
   "id": "97874f3e-76bb-4ba5-a3b5-a1ed568b1422",
   "metadata": {},
   "outputs": [
    {
     "name": "stderr",
     "output_type": "stream",
     "text": [
      "2022/07/12 13:20:54 INFO mlflow.spark: File './artifacts/sparkml' is already on DFS, copy is not necessary.\n"
     ]
    }
   ],
   "source": [
    "import mlflow \n",
    "from pyspark import SparkContext\n",
    "/usr/local/lib/python3.10/dist-packages/pyspark/sql/context.py:112: FutureWarning: Deprecated in 3.0.0. Use SparkSession.builder.getOrCreate() instead.\n",
    "\n",
    "sc = SparkContext.getOrCreate()\n",
    "model = mlflow.spark.load_model(\"./artifacts\")"
   ]
  },
  {
   "cell_type": "code",
   "execution_count": null,
   "id": "a77d8619-672f-4d96-bf4c-ef216995a0f3",
   "metadata": {},
   "outputs": [],
   "source": []
  }
 ],
 "metadata": {
  "kernelspec": {
   "display_name": "Python 3 (ipykernel)",
   "language": "python",
   "name": "python3"
  },
  "language_info": {
   "codemirror_mode": {
    "name": "ipython",
    "version": 3
   },
   "file_extension": ".py",
   "mimetype": "text/x-python",
   "name": "python",
   "nbconvert_exporter": "python",
   "pygments_lexer": "ipython3",
   "version": "3.9.13"
  }
 },
 "nbformat": 4,
 "nbformat_minor": 5
}
