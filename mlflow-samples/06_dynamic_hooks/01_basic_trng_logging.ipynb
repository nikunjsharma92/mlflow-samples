{
 "cells": [
  {
   "cell_type": "code",
   "execution_count": null,
   "id": "32e0d19c-a573-4673-84a0-d09a31e4a429",
   "metadata": {},
   "outputs": [],
   "source": [
    "############# DOWNLOAD DATA ##################\n",
    "from sklearn import datasets\n",
    "iris = datasets.load_iris()\n",
    "\n",
    "X = iris.data\n",
    "y = iris.target"
   ]
  },
  {
   "cell_type": "code",
   "execution_count": null,
   "id": "c1e52f3a-194f-4421-9a74-5ebbd78484ba",
   "metadata": {},
   "outputs": [],
   "source": [
    "############## TRAIN AND VALIDATE MODEL ##################################\n",
    "\n",
    "from sklearn.model_selection import train_test_split\n",
    "from sklearn.ensemble import RandomForestClassifier\n",
    "# Split data into 90% train and 10% test subsets\n",
    "x_train, x_test, y_train, y_test = train_test_split(\n",
    "    X, y, test_size=0.2, shuffle=False\n",
    ")\n",
    "\n",
    "# Normalizing the data\n",
    "x_train = x_train/255.0\n",
    "x_test = x_test/255.0\n",
    "\n",
    "depth = 50\n",
    "n_estimators = 20\n",
    "random_state = 1\n",
    "\n",
    "model_clf = RandomForestClassifier(n_estimators=n_estimators, max_depth=depth, random_state=random_state)\n",
    "\n",
    "# Train the Random Forest algorithm\n",
    "model_clf.fit(x_train, y_train)\n",
    "\n",
    "y_pred = model_clf.predict(x_test)\n",
    "\n",
    "total = len(y_pred)\n",
    "wrong = 0\n",
    "for pred, truth in zip(y_pred, y_test):\n",
    "    wrong += 1 if pred != truth else 0\n",
    "\n",
    "accuracy = (total - wrong)/total\n",
    "print(accuracy)"
   ]
  },
  {
   "cell_type": "code",
   "execution_count": null,
   "id": "04be92a7-3c29-4bea-9f1a-bcf6c3b462bd",
   "metadata": {},
   "outputs": [],
   "source": [
    "%%writefile hooks.py\n",
    "\n",
    "import process\n",
    "\n",
    "def input_fn(X):\n",
    "    return process.pre_process(X)\n",
    "\n",
    "def output_fn(Y):\n",
    "    return Y"
   ]
  },
  {
   "cell_type": "code",
   "execution_count": null,
   "id": "81e158e9-785e-475c-82b5-34dcb207e198",
   "metadata": {},
   "outputs": [],
   "source": [
    "################## LOG MODEL ###########################\n",
    "import mlflow\n",
    "\n",
    "mlflow.set_tracking_uri(\"http://model-repository.stg.dreamplug.net/\")\n",
    "mlflow.set_experiment(\"ds-test-1\")\n",
    "model = None\n",
    "with mlflow.start_run() as run:\n",
    "    mlflow.log_param(\"n_estimators\", n_estimators)\n",
    "    mlflow.log_param(\"max_depth\", depth)\n",
    "    mlflow.log_param(\"random_state\", random_state)\n",
    "    mlflow.log_metric(\"accuracy\", accuracy)\n",
    "    mlflow.log_artifacts(\"hooks.py\", \"model\")\n",
    "    mlflow.sklearn.log_model(model_clf, \"model\", \n",
    "                             registered_model_name=\"TEST-DYNAMIC-HOOKS\", \n",
    "                             extra_pip_requirements=['git+ssh://git@github.com/nikunjsharma92/hooks-test@v2'] # pip repository from github. imports \"process\" lib\n",
    "                            )"
   ]
  },
  {
   "cell_type": "code",
   "execution_count": null,
   "id": "43179e50-c464-4396-9b61-793a1a5e7f3b",
   "metadata": {},
   "outputs": [],
   "source": []
  }
 ],
 "metadata": {
  "kernelspec": {
   "display_name": "Python 3 (ipykernel)",
   "language": "python",
   "name": "python3"
  },
  "language_info": {
   "codemirror_mode": {
    "name": "ipython",
    "version": 3
   },
   "file_extension": ".py",
   "mimetype": "text/x-python",
   "name": "python",
   "nbconvert_exporter": "python",
   "pygments_lexer": "ipython3",
   "version": "3.9.13"
  }
 },
 "nbformat": 4,
 "nbformat_minor": 5
}
