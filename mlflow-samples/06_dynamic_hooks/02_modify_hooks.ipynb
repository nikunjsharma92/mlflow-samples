{
 "cells": [
  {
   "cell_type": "code",
   "execution_count": null,
   "id": "db30ca7f-881f-4500-83d2-b659ebb7908d",
   "metadata": {},
   "outputs": [],
   "source": [
    "import mlflow"
   ]
  },
  {
   "cell_type": "code",
   "execution_count": null,
   "id": "cc37897c-75da-4ba1-bcd8-e3e395f6f9e7",
   "metadata": {},
   "outputs": [],
   "source": [
    "# IF PREFER NEW VERSION WITH NEWER HOOKS\n",
    "mlflow.set_tracking_uri(\"http://model-repository.stg.dreamplug.net/\")\n",
    "mlflow.set_experiment(\"ds-test-1\")\n",
    "\n",
    "model_clf = mlflow.sklearn.load_model(\"models:/TEST-DYNAMIC-HOOKS/1\")\n",
    "with mlflow.start_run() as run:\n",
    "    mlflow.sklearn.log_model(model_clf, \"model\", \n",
    "                             registered_model_name=\"TEST-DYNAMIC-HOOKS\", \n",
    "                             extra_pip_requirements=['git+ssh://git@github.com/nikunjsharma92/hooks-test@v3'] # TAG changed to V3\n",
    "                            )\n",
    "    mlflow.log_artifacts(\"hooks.py\", \"model\")\n",
    "    "
   ]
  },
  {
   "cell_type": "code",
   "execution_count": null,
   "id": "55c29f94-a46e-4e38-9d9d-0f0e0064def2",
   "metadata": {},
   "outputs": [],
   "source": [
    "# IF PREFER EDITING THE SAME VERSION\n",
    "mlflow.set_tracking_uri(\"http://model-repository.stg.dreamplug.net/\")\n",
    "mlflow.set_experiment(\"ds-test-1\")\n",
    "\n",
    "run_id = \"7712f85ad2b9473fbafc62611ee9b18d\" # run id of existing version\n",
    "with mlflow.start_run(run_id=run_id) as run:\n",
    "    mlflow.log_artifacts(\"hooks.py\", \"model\")\n",
    "    mlflow.log_artifacts(\"requirements.txt\", \"model\")"
   ]
  }
 ],
 "metadata": {
  "kernelspec": {
   "display_name": "Python 3 (ipykernel)",
   "language": "python",
   "name": "python3"
  },
  "language_info": {
   "codemirror_mode": {
    "name": "ipython",
    "version": 3
   },
   "file_extension": ".py",
   "mimetype": "text/x-python",
   "name": "python",
   "nbconvert_exporter": "python",
   "pygments_lexer": "ipython3",
   "version": "3.9.13"
  }
 },
 "nbformat": 4,
 "nbformat_minor": 5
}
