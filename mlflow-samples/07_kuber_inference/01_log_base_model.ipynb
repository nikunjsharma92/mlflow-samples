{
 "cells": [
  {
   "cell_type": "code",
   "execution_count": null,
   "id": "e14cc198-50e2-4f3b-8ff4-69eb1c52fe44",
   "metadata": {},
   "outputs": [],
   "source": [
    "!pip install catboost"
   ]
  },
  {
   "cell_type": "code",
   "execution_count": null,
   "id": "620dc525-eaeb-4491-8e09-dd90b0dfd2ea",
   "metadata": {},
   "outputs": [],
   "source": [
    "import mlflow\n",
    "################## LOAD/TRAIN BASE MODEL ####################\n",
    "from catboost import CatBoostClassifier\n",
    "## NOTE: download the model.cbm in the current directory\n",
    "model = CatBoostClassifier(iterations=1000,eval_metric='AUC',learning_rate=0.01,depth=10,task_type=\"CPU\").load_model(\"./model.cbm\")\n",
    "################## LOG MODEL ###########################\n",
    "import mlflow\n",
    "\n",
    "mlflow.set_tracking_uri(\"http://model-repository.stg.dreamplug.net/\")\n",
    "mlflow.set_experiment(\"kuber-inference-base-model\")\n",
    "with mlflow.start_run() as run:\n",
    "    mlflow.catboost.log_model(model, \"model\", \n",
    "                             registered_model_name=\"KUBER-INFERENCE-BASE-MODEL\", \n",
    "                            )"
   ]
  },
  {
   "cell_type": "code",
   "execution_count": null,
   "id": "3e0dfa50-915a-40eb-b553-0cdc7b76756a",
   "metadata": {},
   "outputs": [],
   "source": [
    "model = mlflow.catboost.load_model(\"models:/KUBER-INFERENCE-BASE-MODEL/2\")"
   ]
  }
 ],
 "metadata": {
  "kernelspec": {
   "display_name": "Python 3 (ipykernel)",
   "language": "python",
   "name": "python3"
  },
  "language_info": {
   "codemirror_mode": {
    "name": "ipython",
    "version": 3
   },
   "file_extension": ".py",
   "mimetype": "text/x-python",
   "name": "python",
   "nbconvert_exporter": "python",
   "pygments_lexer": "ipython3",
   "version": "3.9.13"
  }
 },
 "nbformat": 4,
 "nbformat_minor": 5
}
