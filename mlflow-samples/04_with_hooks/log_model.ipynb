{
 "cells": [
  {
   "cell_type": "code",
   "execution_count": 5,
   "id": "a34062d2",
   "metadata": {},
   "outputs": [
    {
     "name": "stdout",
     "output_type": "stream",
     "text": [
      "[14:38:51] src/tree/updater_prune.cc:74: tree pruning end, 1 roots, 10 extra nodes, 0 pruned nodes, max_depth=5\n",
      "[14:38:51] src/tree/updater_prune.cc:74: tree pruning end, 1 roots, 6 extra nodes, 0 pruned nodes, max_depth=3\n",
      "[14:38:51] src/tree/updater_prune.cc:74: tree pruning end, 1 roots, 12 extra nodes, 0 pruned nodes, max_depth=5\n",
      "[14:38:51] src/tree/updater_prune.cc:74: tree pruning end, 1 roots, 8 extra nodes, 0 pruned nodes, max_depth=4\n",
      "[14:38:51] src/tree/updater_prune.cc:74: tree pruning end, 1 roots, 18 extra nodes, 0 pruned nodes, max_depth=7\n",
      "[14:38:51] src/tree/updater_prune.cc:74: tree pruning end, 1 roots, 18 extra nodes, 0 pruned nodes, max_depth=7\n",
      "[14:38:51] src/tree/updater_prune.cc:74: tree pruning end, 1 roots, 16 extra nodes, 0 pruned nodes, max_depth=6\n",
      "[14:38:51] src/tree/updater_prune.cc:74: tree pruning end, 1 roots, 16 extra nodes, 0 pruned nodes, max_depth=6\n",
      "[14:38:51] src/tree/updater_prune.cc:74: tree pruning end, 1 roots, 8 extra nodes, 0 pruned nodes, max_depth=4\n",
      "[14:38:51] src/tree/updater_prune.cc:74: tree pruning end, 1 roots, 24 extra nodes, 0 pruned nodes, max_depth=6\n"
     ]
    },
    {
     "name": "stderr",
     "output_type": "stream",
     "text": [
      "Registered model 'XGB-IRIS-WITH-HOOKS' already exists. Creating a new version of this model...\n",
      "2022/03/02 14:38:56 INFO mlflow.tracking._model_registry.client: Waiting up to 300 seconds for model version to finish creation.                     Model name: XGB-IRIS-WITH-HOOKS, version 4\n",
      "Created version '4' of model 'XGB-IRIS-WITH-HOOKS'.\n"
     ]
    }
   ],
   "source": [
    "import xgboost as xgb\n",
    "import mlflow\n",
    "from sklearn import datasets\n",
    "from sklearn.model_selection import train_test_split\n",
    "\n",
    "##### Register Model ########\n",
    "iris = datasets.load_iris()\n",
    "x = iris.data[:, 2:]\n",
    "y = iris.target\n",
    "x_train, x_test, y_train, _ = train_test_split(x, y, test_size=0.2, random_state=42)\n",
    "dtrain = xgb.DMatrix(x_train, label=y_train)\n",
    "xgb_model = xgb.train(params={'max_depth': 10}, dtrain=dtrain, num_boost_round=10)\n",
    "\n",
    "##### Log Model ########\n",
    "mlflow.set_tracking_uri(\"http://model-repository.stg.dreamplug.net/\")\n",
    "mlflow.set_experiment(\"test\")\n",
    "with mlflow.start_run():\n",
    "    mlflow.log_artifact('hooks.py', 'model')\n",
    "    logged_model1 = mlflow.xgboost.log_model(xgb_model, 'model', registered_model_name='XGB-IRIS-WITH-HOOKS', \n",
    "                                             extra_pip_requirements=['boto3', 'sagemaker'])"
   ]
  },
  {
   "cell_type": "code",
   "execution_count": null,
   "id": "a616ab52",
   "metadata": {},
   "outputs": [],
   "source": []
  }
 ],
 "metadata": {
  "kernelspec": {
   "display_name": "Python 3 (ipykernel)",
   "language": "python",
   "name": "python3"
  },
  "language_info": {
   "codemirror_mode": {
    "name": "ipython",
    "version": 3
   },
   "file_extension": ".py",
   "mimetype": "text/x-python",
   "name": "python",
   "nbconvert_exporter": "python",
   "pygments_lexer": "ipython3",
   "version": "3.9.7"
  }
 },
 "nbformat": 4,
 "nbformat_minor": 5
}
